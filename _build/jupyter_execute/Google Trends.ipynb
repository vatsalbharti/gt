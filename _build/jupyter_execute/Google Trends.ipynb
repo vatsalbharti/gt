{
 "cells": [
  {
   "cell_type": "markdown",
   "id": "2430e44e-9728-47a3-9f6b-c6f1a611979e",
   "metadata": {},
   "source": [
    "# Google Trends"
   ]
  },
  {
   "cell_type": "markdown",
   "id": "e5e5331f-93ac-4eab-983d-88f4d9899f4e",
   "metadata": {},
   "source": [
    "<br>\n",
    "\n",
    "*Google Trends* data is a collection of information that represents the relative popularity of search queries entered into Google's search engine over a specific period of time and across different regions or categories. This data is derived from the vast number of searches conducted on Google and then normalized to account for the total search volume in a given region and time frame.\n",
    "\n",
    "Point to Note `Google Trends does not provide absolute search volumes; instead, it assigns a value between 0 and 100 to indicate the popularity of a search term relative to its peak popularity during the selected time frame. A value of 100 represents the peak popularity, while a value of 0 indicates the term had less than 1% of its peak popularity`.\n",
    "\n",
    "This data can be used to analyze search trends, identify emerging topics, gauge public interest in specific subjects, and compare the popularity of different search terms. Google Trends data is valuable for various applications, including market research, content creation, sentiment analysis, and tracking the impact of events or news stories on public interest.\n",
    "\n",
    "</br>"
   ]
  },
  {
   "cell_type": "markdown",
   "id": "e2063583-e1ee-46f4-9963-f653349d8306",
   "metadata": {
    "tags": []
   },
   "source": [
    "### Here's a step-by-step guide for using Google Trends, along with examples and story ideas:"
   ]
  },
  {
   "cell_type": "code",
   "execution_count": null,
   "id": "ce3dc74a-232f-4977-89ea-a8e431f5c43c",
   "metadata": {},
   "outputs": [],
   "source": []
  },
  {
   "cell_type": "markdown",
   "id": "9908d844-9743-43c4-a677-83f4addb5804",
   "metadata": {},
   "source": [
    "**Access Google Trends: Go to [Google Trends](https://trends.google.com/trends/) to access the platform**"
   ]
  },
  {
   "cell_type": "markdown",
   "id": "35933ff5-0109-4094-80d2-b9a408fe52c1",
   "metadata": {},
   "source": [
    "<img src=\"../offline/images/google_trend_landing_page.png\" alt=\"Google Trends\" class=\"centre\">"
   ]
  },
  {
   "cell_type": "markdown",
   "id": "53a0aec9-c678-4339-a801-90e4ed223de9",
   "metadata": {},
   "source": [
    "<br>\n",
    "Google Trends measures keyword popularity rather than keyword search volume.\n",
    "\n",
    "Here’s how Google explains it: “Each data point is divided by the total searches of the geography and time range it represents, to compare relative popularity.”\n",
    "\n",
    "To start using Google Trends, enter a keyword into the search bar or choose one of the provided examples.\n",
    "<br>"
   ]
  },
  {
   "cell_type": "code",
   "execution_count": null,
   "id": "45282fcc-0502-4ac5-be21-743ae75c94d3",
   "metadata": {},
   "outputs": [],
   "source": []
  },
  {
   "cell_type": "markdown",
   "id": "ca9ddf0c-e75a-46ec-810e-c9679901737b",
   "metadata": {},
   "source": [
    "<br>\n",
    "\n",
    "*On which day do most Indians get a hangover? Lets Find out with the help of Google Trends*\n",
    "\n",
    "<br>"
   ]
  },
  {
   "cell_type": "markdown",
   "id": "3df650b1-871f-4075-ad2f-87068099fd4b",
   "metadata": {},
   "source": [
    "<img src=\"../offline/images/hangover.png\" alt=\"Google Trends_\" class=\"centre\">"
   ]
  },
  {
   "cell_type": "markdown",
   "id": "be9dcbec-53cf-40e8-8f30-596e51cb5e97",
   "metadata": {},
   "source": [
    "<br>\n",
    "We can infer from a spike in Google searches related to hangovers, vodka, whiskey, or other alcoholic beverages during weekends that people might be consuming more alcohol on these days. Similarly, an increase in searches for hangover cures or related terms could suggest that more people are experiencing hangovers after these periods of increased alcohol consumption.\n",
    "\n",
    "<br>"
   ]
  },
  {
   "cell_type": "code",
   "execution_count": null,
   "id": "90c87ee1-882a-4ea1-b8f6-2e15767e56b1",
   "metadata": {},
   "outputs": [],
   "source": []
  },
  {
   "cell_type": "markdown",
   "id": "c052c52e-7675-46da-ad60-6d6a5478843f",
   "metadata": {},
   "source": [
    "<br>\n",
    "Google Trends can be a useful tool for this kind of analysis, as it allows you to track the popularity of certain search terms over time and identify patterns or trends. For example, you could compare the search interest for \"hangover cure\" on weekends versus weekdays, or see how search interest changes around certain events or holidays.\n",
    "<br>"
   ]
  },
  {
   "cell_type": "code",
   "execution_count": null,
   "id": "cc75ee5c-608a-49fe-9b4a-14bca763a307",
   "metadata": {},
   "outputs": [],
   "source": []
  },
  {
   "cell_type": "markdown",
   "id": "bd1b3f39-aa8e-4400-96b9-0b4884951d04",
   "metadata": {},
   "source": [
    "<br>\n",
    "\n",
    "You can adjust the region and time frame for your term using the dropdown options below the search bar. You can look at worldwide data or narrow it down to a specific country or even a subregion within a country. You can also adjust the time frame from the past hour up to the past 5 years or you can set a custom time range.\n",
    "\n",
    "`Compare Multiple Terms`\n",
    "\n",
    "Google Trends allows you to compare the popularity of up to five search terms or groups. Click on the \"+ Compare\" button and enter your second search term. The chart will now show data for both terms, allowing you to easily compare them.\n",
    "\n",
    "Use Categories and Web Search\n",
    "\n",
    "With the \"All categories\" dropdown, you can filter your term by categories like Business, Health, Entertainment, etc. With the \"Web Search\" dropdown, you can filter by types of searches such as Image Search, News Search, Google Shopping, and YouTube Search.\n",
    "\n",
    "<br>"
   ]
  },
  {
   "cell_type": "markdown",
   "id": "da5db7f9-8834-4b6f-b43a-c6a36a6c29b8",
   "metadata": {},
   "source": [
    "<img src=\"../offline/images/hang.png\" alt=\"Google Trends_\" class=\"centre\">"
   ]
  },
  {
   "cell_type": "markdown",
   "id": "2d432ac3-6ad9-4a93-a8bc-73d459cb9463",
   "metadata": {},
   "source": [
    "<br>\n",
    "\n",
    "In addition to related queries, you can research related topics.\n",
    "\n",
    "The topics marked with percentage increases are “Top” trending topics, while breakout terms are “Rising.” Breakout, or rising, topics have seen a huge increase since the last time period. \n",
    "\n",
    "The goal is to identify any gaps to capitalize on popular terms.\n",
    "\n",
    "A lot of SEO/Marketing hacks can be picked out from these related terms for running ads in areas/geography/cities or identifying competitor buisness etc.\n",
    "\n",
    "<br>"
   ]
  },
  {
   "cell_type": "markdown",
   "id": "2d8d8547-dd35-4290-a0cb-e67cbba46b62",
   "metadata": {},
   "source": [
    "<img src=\"../offline/images/hung.png\" alt=\"Google Trends_\" class=\"centre\">"
   ]
  },
  {
   "cell_type": "markdown",
   "id": "5a32d3f4-b00e-49f3-9020-b0345ec9acf1",
   "metadata": {},
   "source": [
    "<br>\n",
    "\n",
    "***How can a journalist leverage related queries and related topics ?***\n",
    "\n",
    "It offer insights into what people are interested in or what they're searching for in relation to a specific topic. This information can help journalists understand the broader context of a story, identify related issues to explore, or even discover new story ideas.\n",
    "\n",
    "Here's an example:\n",
    "\n",
    "Let's say a journalist is covering the topic of electric vehicles (EVs) in India. They enter \"electric vehicles\" into Google Trends and set the region to India. Below the interest-over-time graph, they find the sections for Related Topics and Related Queries.\n",
    "\n",
    "Related Topics might include:\n",
    "\n",
    "Specific electric vehicle models or brands, like the Tata Nexon EV.\n",
    "Government incentives for electric vehicles.\n",
    "The issue of charging infrastructure for electric vehicles.\n",
    "Each of these related topics could provide ideas for more in-depth stories. For instance, the journalist could write a feature on the Tata Nexon EV, investigate the impact of government incentives on EV adoption, or explore the challenges and solutions around EV charging infrastructure in India.\n",
    "\n",
    "Related Queries might include:\n",
    "\n",
    "\"Electric vehicle charging stations in India\"\n",
    "\"Cost of electric vehicles in India\"\n",
    "\"Best electric vehicle in India\"\n",
    "These queries give the journalist insight into what people want to know about electric vehicles. They could address these queries directly in their reporting, answering the public's questions and providing valuable information to their audience. For example, they might write an article that compares the costs of different electric vehicles in India, or create a map of charging stations across the country.\n",
    "\n",
    "<br>"
   ]
  },
  {
   "cell_type": "markdown",
   "id": "c8886420-f9b4-456c-b53a-411f511046ea",
   "metadata": {},
   "source": [
    "<img src=\"../offline/images/google_terms.png\" alt=\"Google Trends_\" class=\"centre\">"
   ]
  },
  {
   "cell_type": "markdown",
   "id": "6f5a36c3-cc93-4dbb-9322-cab5ecaaeb5f",
   "metadata": {},
   "source": [
    "<br>\n",
    "\n",
    "***Can Google Trends predict GDP Growth in real time?***\n",
    "\n",
    "\n",
    "Introducing ***OECD Weekly Tracker*** and other innovative measures of economic activity\n",
    "\n",
    "The OECD Weekly Tracker of GDP growth provides a real-time high-frequency indicator of economic activity using machine learning and Google Trends data. It has a wide country coverage of OECD and G20 countries. The Tracker is thus particularly well suited to assessing activity when it is changing very rapidly due to the impact of a major shock. It applies a machine learning model to a panel of Google Trends data for 46 countries, and aggregates together information about search behaviour related to consumption, labour markets, housing, trade, industrial activity and economic uncertainty.\n",
    "\n",
    "<br>"
   ]
  },
  {
   "cell_type": "markdown",
   "id": "e1e6bd33-19ac-48c2-b084-fc7e795625d2",
   "metadata": {},
   "source": [
    "<img src=\"../offline/images/oced.png\" alt=\"Google Trends_\" class=\"centre\">"
   ]
  },
  {
   "cell_type": "markdown",
   "id": "48df1bd6-f6dd-42fb-a828-7f6cc5548be9",
   "metadata": {},
   "source": [
    "***Nowcasting with Google Trends***\n",
    "\n",
    "Signals about multiple facets of the economy from Google Trends are extracted and aggregated using machine learning in order to infer a timely picture of the macro economy.\n",
    "\n",
    "In the Indian context they might include \n",
    "Consumer Confidence: This can be gauged by looking at searches related to big-ticket consumer goods (like cars or houses), luxury goods, or even general retail goods. An increase in searches for these items might indicate increased consumer confidence, while a decrease could suggest the opposite. In India, specific terms might include brand names popular in the country, like \"Maruti cars\" or \"Samsung mobile phones\".\n",
    "\n",
    "Unemployment: Searches for terms like \"government job vacancies\", \"Sarkari result\", or \"how to prepare for interview\" can give insights into changes in the unemployment rate. An increase in these types of searches might suggest an increase in unemployment.\n",
    "\n",
    "Inflation: Searches for price-related terms (like \"price of rice\" or \"petrol price today\") could provide insights into consumer perceptions of inflation. If more people are searching for these terms, it could suggest that prices are rising and inflation is becoming a concern.\n",
    "\n",
    "Housing Market: Searches for terms like \"property prices in Mumbai\", \"home loan interest rates\", or \"how to buy a flat\" can give insights into the state of the housing market, which is a significant factor in the Indian economy.\n",
    "\n",
    "Retail Sales: Searches for specific retail goods or brands can provide insights into retail sales, which are a key indicator of consumer spending. For example, searches for \"online shopping\", \"Amazon sale\", or \"Flipkart offers\" could indicate trends in e-commerce, a fast-growing sector in India.\n",
    "\n",
    "Business Investment: Searches for business-related terms (like \"SME loans\" or \"coworking spaces in Bangalore\") could provide insights into levels of business investment.\n",
    "\n",
    "Stock Market: Searches for stock market-related terms (like \"Sensex\", \"Nifty\", or specific company names) could provide insights into stock market trends and investor confidence.\n",
    "\n",
    "Trade: Searches for terms related to imports and exports (like \"import duties\" or \"export opportunities\") could provide insights into the state of international trade.\n",
    "\n",
    "\n",
    "***Economic paper on how OCED tracks economy in real time - Go to [OCED Google trends](https://www.oecd-ilibrary.org/economics/tracking-activity-in-real-time-with-google-trends_6b9c7518-en)***\n",
    "\n",
    "<br>"
   ]
  },
  {
   "cell_type": "code",
   "execution_count": null,
   "id": "bddfeed2-40ff-4d61-994b-c62aafe388fe",
   "metadata": {},
   "outputs": [],
   "source": []
  }
 ],
 "metadata": {
  "kernelspec": {
   "display_name": "Python 3 (ipykernel)",
   "language": "python",
   "name": "python3"
  },
  "language_info": {
   "codemirror_mode": {
    "name": "ipython",
    "version": 3
   },
   "file_extension": ".py",
   "mimetype": "text/x-python",
   "name": "python",
   "nbconvert_exporter": "python",
   "pygments_lexer": "ipython3",
   "version": "3.9.12"
  }
 },
 "nbformat": 4,
 "nbformat_minor": 5
}