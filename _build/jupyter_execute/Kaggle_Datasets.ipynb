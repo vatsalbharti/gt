{
 "cells": [
  {
   "cell_type": "markdown",
   "id": "77fba0e6-b44b-49dd-829c-afb633f8128f",
   "metadata": {},
   "source": [
    "# Kaggle Datasets"
   ]
  },
  {
   "cell_type": "markdown",
   "id": "8c645833-1058-482e-8cc3-0d10acd12070",
   "metadata": {},
   "source": [
    "<br>\n",
    "\n",
    "***Kaggle*** is a platform that offers a vast array of resources and tools for data science and machine learning. Journalists can leverage Kaggle in several ways to assist in their data journalism efforts:\n",
    "\n",
    "***Datasets***: Kaggle hosts a huge number of datasets on a wide variety of topics, from politics and economics to health, science, and culture. Journalists can use these datasets to find data for their stories, explore new topics, or gain a deeper understanding of their area of interest.\n",
    "\n",
    "***Kernels (Code)***: Kaggle allows users to write and share code in an environment called a kernel. Kernels can be used to analyze data, build models, create visualizations, and more. Journalists can use kernels to perform their own analyses, or they can learn from the code that others have written.\n",
    "\n",
    "***Competitions***: Kaggle hosts machine learning competitions where users are challenged to create the best model for a specific task. While journalists may not participate directly in these competitions, they can learn a lot from the methods and techniques used by participants.\n",
    "\n",
    "***Courses***: Kaggle offers free courses on a variety of data science topics, including Python, machine learning, data visualization, and more. These courses can be a great way for journalists to learn new skills or improve their existing skills.\n",
    "\n",
    "***Community***: Kaggle has a large and active community of data scientists, statisticians, and machine learning practitioners. Journalists can use the community to ask questions, get help, or find collaborators for their projects.\n",
    "\n",
    "<br>"
   ]
  },
  {
   "cell_type": "markdown",
   "id": "4b8bf536-54a9-4832-bc5a-6bd19048693a",
   "metadata": {},
   "source": [
    "# How to use Kaggle Datasets "
   ]
  },
  {
   "cell_type": "markdown",
   "id": "1724b1c3-6e74-461e-880d-7d1484119779",
   "metadata": {},
   "source": [
    "<br>\n",
    "\n",
    " Kaggle gives you access to a wide variety of top-quality datasets shared by other users. You can easily find the datasets you want with just a few search and filtering methods.\n",
    " \n",
    "Datset Search Filters\n",
    "\n",
    "To search for a dataset, write your keywords in the search field, as shown in Figure 4.1. Here you can see that we can access several datasets about the pandemic just by typing \"health india\" in the search bar.\n",
    "    \n",
    "<br>"
   ]
  },
  {
   "cell_type": "markdown",
   "id": "5b979d83-3a74-45e7-8cfe-98960b4fd898",
   "metadata": {},
   "source": [
    "<img src=\"../offline/images/kaggle.png\" alt=\"Google Trends\" class=\"centre\">"
   ]
  },
  {
   "cell_type": "code",
   "execution_count": null,
   "id": "cc905331-2c6b-47ab-8e36-6a86f6575a80",
   "metadata": {},
   "outputs": [],
   "source": []
  },
  {
   "cell_type": "markdown",
   "id": "039901ea-b47b-4151-a06a-4edf7882ffbe",
   "metadata": {},
   "source": [
    "<br> \n",
    "\n",
    "***You can search datasets by tag also***\n",
    "\n",
    "<br>"
   ]
  },
  {
   "cell_type": "code",
   "execution_count": null,
   "id": "b709b594-4a39-402f-8d63-4f6449d313ab",
   "metadata": {},
   "outputs": [],
   "source": []
  },
  {
   "cell_type": "markdown",
   "id": "d292e97e-67f3-4c8f-a4b8-a650fb49d06c",
   "metadata": {},
   "source": [
    "<img src=\"../offline/images/kaggle_1.png\" alt=\"Google Trends\" class=\"centre\">"
   ]
  },
  {
   "cell_type": "code",
   "execution_count": null,
   "id": "da2b1fd1-05d5-4687-a247-df6a6bb9ba34",
   "metadata": {},
   "outputs": [],
   "source": []
  },
  {
   "cell_type": "markdown",
   "id": "97212121-bbe5-41d6-a856-6939d4ff80b8",
   "metadata": {},
   "source": [
    "<br>\n",
    "\n",
    "Kaggle allows you to download any dataset for free, but depending on what you are going to use it for, you may need to pay attention to the license type of the datasets. In some cases, it is possible that you may need to obtain additional permissions from their owners in case you want to use a dataset for an academic paper or in case you intend to use it for commercial purposes.\n",
    "\n",
    "\n",
    "There are three main license types on Kaggle:\n",
    "\n",
    "`1. Creative Commons`: There are several kinds of Creative Commons licenses:\n",
    "CCO, which stands for public domain and means that the dataset is available to everyone under any circumstances.\n",
    "CC-BY, which requires the dataset user to credit its owner.\n",
    "CC-BY-SA, which also requires the owner to be credited and adds the condition that the dataset keeps the same kind of license even after it's modified.\n",
    "\n",
    "`2. GPL`: This license basically provides four main usage options:\n",
    "Firstly, you get unlimited use of a dataset.\n",
    "You also have the possibility to examine how the dataset works, and modify it.\n",
    "Additionally, you are entitled to the unlimited distribution of copies of the dataset.\n",
    "And lastly, you can distribute the modified version of the dataset as well.\n",
    "\n",
    "\n",
    "`3. Open Database`: This allows users to share, modify and use the dataset but it makes it mandatory to establish the same kind of license for the modified dataset.\n",
    "\n",
    "<br>"
   ]
  },
  {
   "cell_type": "code",
   "execution_count": null,
   "id": "d6a71062-5f8f-49e9-9ee8-e06abd371b37",
   "metadata": {},
   "outputs": [],
   "source": []
  },
  {
   "cell_type": "markdown",
   "id": "28383770-e5d1-4172-952e-b3d0c7680bd6",
   "metadata": {},
   "source": [
    "<br> \n",
    "\n",
    "***You can filter datasets too***\n",
    "\n",
    "<br>"
   ]
  },
  {
   "cell_type": "code",
   "execution_count": null,
   "id": "cc8b47fe-ab73-4452-bb72-2874c934e3ce",
   "metadata": {},
   "outputs": [],
   "source": []
  },
  {
   "cell_type": "markdown",
   "id": "a9e58f7d-10b0-40d8-8163-37d6709d828a",
   "metadata": {},
   "source": [
    "<img src=\"../offline/images/kaggle_2.png\" alt=\"Google Trends\" class=\"centre\">"
   ]
  },
  {
   "cell_type": "code",
   "execution_count": null,
   "id": "4113f766-baa0-4f3b-945d-a87f7a12f1b6",
   "metadata": {},
   "outputs": [],
   "source": []
  },
  {
   "cell_type": "markdown",
   "id": "6fefba7b-5350-49a7-86d1-465626aa9bca",
   "metadata": {},
   "source": [
    "<br>\n",
    "\n",
    "***The Data Explorer section allows you to quickly browse through the content and structure of the datasets. It gives you an overview of the files and the columns in the data, as well as their histogram graphs***\n",
    "\n",
    "<br>"
   ]
  },
  {
   "cell_type": "code",
   "execution_count": null,
   "id": "4c57c8ae-5979-4074-85a5-51245f769983",
   "metadata": {},
   "outputs": [],
   "source": []
  },
  {
   "cell_type": "markdown",
   "id": "19c2e7f0-e059-41d3-829d-763751e98460",
   "metadata": {},
   "source": [
    "<img src=\"../offline/images/kaggle_3.png\" alt=\"Google Trends\" class=\"centre\">"
   ]
  },
  {
   "cell_type": "code",
   "execution_count": null,
   "id": "165ee9c2-6b47-4866-aaec-08e97bbee96b",
   "metadata": {},
   "outputs": [],
   "source": []
  },
  {
   "cell_type": "markdown",
   "id": "4f8744e9-79c6-4827-bd85-d3677b77658d",
   "metadata": {},
   "source": [
    "<br>\n",
    "\n",
    "***Custom Datasets***\n",
    "\n",
    "<br>"
   ]
  },
  {
   "cell_type": "markdown",
   "id": "e24b7429-6b60-41e2-af8d-8d4ed2568a75",
   "metadata": {},
   "source": [
    "<br>\n",
    "\n",
    "You can also upload and use your own datasets in Kaggle. This feature comes in handy when you have your own dataset or when you've modified a dataset and want to use it in your notebook. In order to upload a dataset, first, you need to zip your main dataset file. Then click on \"New Dataset\" in the Datasets section. Give your dataset a name and upload your zip file\n",
    "\n",
    "<br>"
   ]
  },
  {
   "cell_type": "code",
   "execution_count": null,
   "id": "c31a6a16-efc9-40d4-a576-4777d1212409",
   "metadata": {},
   "outputs": [],
   "source": []
  },
  {
   "cell_type": "markdown",
   "id": "52b662c8-ba9f-4135-ac2a-b2f5150682e1",
   "metadata": {},
   "source": [
    "<img src=\"../offline/images/kaggle_4.png\" alt=\"Google Trends\" class=\"centre\">"
   ]
  },
  {
   "cell_type": "markdown",
   "id": "c7dd8471-4989-47be-a3ff-e009462dbb7d",
   "metadata": {},
   "source": [
    "<br>\n",
    "\n",
    "***Kaggle is great platform to source datasets which can be useful for data stories and experimentation with analysis and outcomes, collaborative efforts usually lead to better data longevity and access to vast amounts of sector agnostic ideas and datasets which when the ecosystem maintains and operates well would always lead to better outcomes and research*** \n",
    "\n",
    "<br>"
   ]
  },
  {
   "cell_type": "code",
   "execution_count": null,
   "id": "939f015f-2c3c-497d-8f98-96804a364d1f",
   "metadata": {},
   "outputs": [],
   "source": []
  }
 ],
 "metadata": {
  "kernelspec": {
   "display_name": "Python 3 (ipykernel)",
   "language": "python",
   "name": "python3"
  },
  "language_info": {
   "codemirror_mode": {
    "name": "ipython",
    "version": 3
   },
   "file_extension": ".py",
   "mimetype": "text/x-python",
   "name": "python",
   "nbconvert_exporter": "python",
   "pygments_lexer": "ipython3",
   "version": "3.9.12"
  }
 },
 "nbformat": 4,
 "nbformat_minor": 5
}