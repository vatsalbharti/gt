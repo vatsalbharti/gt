{
 "cells": [
  {
   "cell_type": "markdown",
   "id": "fe241a17-b436-491e-a4c7-7cd88856a05b",
   "metadata": {},
   "source": [
    "# Google - Open Buildings 2.5D Temporal Dataset\n",
    "\n",
    "## Overview\n",
    "A comprehensive building analysis dataset spanning 2016-2023, derived from Sentinel-2 satellite imagery covering major developing regions globally. The dataset provides high-precision building metrics at 4-meter resolution across approximately 58 million square kilometers.\n",
    "\n",
    "## Geographic Coverage\n",
    "- Africa\n",
    "- South Asia\n",
    "- South-East Asia\n",
    "- Latin America\n",
    "- Caribbean\n",
    "\n",
    "## Technical Specifications\n",
    "- **Temporal Range:** 2016-2023 (8 years)\n",
    "- **Resolution:** 4 meters (effective)\n",
    "- **Data Source:** Sentinel-2 satellite\n",
    "- **Update Frequency:** ~5-day revisit times\n",
    "- **Measurements:** \n",
    "  - Building presence\n",
    "  - Fractional building counts\n",
    "  - Building heights\n",
    "\n",
    "## Applications\n",
    "\n",
    "### Urban Development & Planning\n",
    "Monitor urban growth patterns and identify areas needing infrastructure investment through temporal analysis of building development.\n",
    "\n",
    "### Environmental Impact Assessment\n",
    "Track construction progression and analyze human settlement impacts on natural resources across time.\n",
    "\n",
    "### Population Mapping\n",
    "Create enhanced population distribution maps incorporating building height data for improved census accuracy and validation.\n",
    "\n",
    "### Healthcare Planning\n",
    "Support vaccination campaigns and healthcare accessibility initiatives with current building distribution data.\n",
    "\n",
    "### Disaster Response\n",
    "Enable rapid assessment of affected populations in disaster zones using building density and height information.\n",
    "\n",
    "## Target Users\n",
    "Designed to support organizations working on societal benefit projects:\n",
    "- Government agencies\n",
    "- Non-profit organizations\n",
    "- Research institutions\n",
    "- Public health organizations\n",
    "- Humanitarian response teams"
   ]
  },
  {
   "cell_type": "markdown",
   "id": "6a745a92-1270-46af-830d-94ca08154cd9",
   "metadata": {},
   "source": [
    "[Open Buildings 2.5D Temporal Dataset](https://mmeka-ee.projects.earthengine.app/view/open-buildings-temporal-dataset)"
   ]
  },
  {
   "cell_type": "markdown",
   "id": "ef698e47-0a07-4ed5-9dbf-3f65bef3e16f",
   "metadata": {},
   "source": [
    "<img src=\"../gt/images/31.png\" alt=\"Google Trends\" class=\"centre\">"
   ]
  },
  {
   "cell_type": "markdown",
   "id": "f6feacd0-749f-45e2-b578-e47865d69c5a",
   "metadata": {
    "tags": []
   },
   "source": [
    "Here's how journalists could effectively use the Open Buildings 2.5D Temporal Dataset for reporting and investigations:\n",
    "\n",
    "### Story Development\n",
    "1. **Urban Growth Investigation**\n",
    "   - Track rapid development in specific cities/regions\n",
    "   - Identify gentrification patterns\n",
    "   - Document informal settlement growth\n",
    "   - Compare development rates between different areas\n",
    "\n",
    "2. **Environmental Reporting**\n",
    "   - Map urban sprawl into natural areas\n",
    "   - Document deforestation linked to construction\n",
    "   - Track coastal development patterns\n",
    "   - Investigate agricultural land conversion to urban use\n",
    "\n",
    "3. **Data-Driven Stories**\n",
    "   - Compare official development figures with satellite data\n",
    "   - Investigate building code compliance\n",
    "   - Track post-disaster reconstruction progress\n",
    "   - Analyze urban density changes\n",
    "\n",
    "### Visual Storytelling\n",
    "- Create before/after comparisons (2016 vs 2023)\n",
    "- Generate time-lapse visualizations of urban growth\n",
    "- Produce infographics showing development patterns\n",
    "- Map building height changes in developing areas\n",
    "\n",
    "### Investigative Journalism\n",
    "- Cross-reference building data with:\n",
    "  - Government permits\n",
    "  - Environmental impact assessments\n",
    "  - Population statistics\n",
    "  - Infrastructure development plans\n",
    "  - Public funding allocation\n",
    "\n",
    "### Public Interest Stories\n",
    "- Healthcare facility accessibility\n",
    "- School distribution in growing areas\n",
    "- Emergency response coverage\n",
    "- Housing density and public services\n",
    "- Infrastructure gaps in rapidly growing areas"
   ]
  },
  {
   "cell_type": "markdown",
   "id": "4eb3372e-8ab7-427f-8c32-20b2e21c5e25",
   "metadata": {},
   "source": [
    "## Density and Area map of buildings"
   ]
  },
  {
   "cell_type": "markdown",
   "id": "4c2ca84a-92b4-4b58-9a9c-d87300ae566d",
   "metadata": {},
   "source": [
    "```{raw} html\n",
    "<iframe src=\"_static/mumbai_buildings_advanced.html\" width=\"100%\" height=\"500px\"></iframe>\n",
    "```"
   ]
  },
  {
   "cell_type": "code",
   "execution_count": null,
   "id": "d3eafece-9fbf-414a-af74-4f2a6c47708e",
   "metadata": {},
   "outputs": [],
   "source": []
  },
  {
   "cell_type": "markdown",
   "id": "0a085cab-1883-4caa-ae15-95f876cf7934",
   "metadata": {},
   "source": [
    "## Height Data of Buildings"
   ]
  },
  {
   "cell_type": "markdown",
   "id": "59bbde09-36a5-4843-8bd2-2d1a7f63e307",
   "metadata": {},
   "source": [
    "```{raw} html\n",
    "<iframe src=\"_static/enhanced_buildings_map.html\" width=\"100%\" height=\"500px\"></iframe>\n",
    "```"
   ]
  },
  {
   "cell_type": "code",
   "execution_count": null,
   "id": "633846ce-6857-4e7d-bb7d-a7895a07a852",
   "metadata": {},
   "outputs": [],
   "source": []
  },
  {
   "cell_type": "markdown",
   "id": "6b0ccd2e-d013-4e24-a475-341f2646368e",
   "metadata": {},
   "source": [
    "## 3D Rendering of Building Heights"
   ]
  },
  {
   "cell_type": "markdown",
   "id": "629f03f9-c5b1-4835-937e-692c140e1866",
   "metadata": {},
   "source": [
    "```{raw} html\n",
    "<iframe src=\"_static/buildings_3d.html\" width=\"100%\" height=\"500px\"></iframe>\n",
    "```"
   ]
  },
  {
   "cell_type": "code",
   "execution_count": null,
   "id": "765ab781-ca84-4bd5-9451-7e46c6978f47",
   "metadata": {},
   "outputs": [],
   "source": []
  },
  {
   "cell_type": "markdown",
   "id": "50e1da9a-6b41-4b30-a5ea-02a3147b1cd1",
   "metadata": {},
   "source": [
    "## Cluster Analysis of Buildings"
   ]
  },
  {
   "cell_type": "markdown",
   "id": "73ab037d-6f50-467e-985c-a5ec12d65eaf",
   "metadata": {},
   "source": [
    "```{raw} html\n",
    "<iframe src=\"_static/mumbai_density_clusters.html\" width=\"100%\" height=\"500px\"></iframe>\n",
    "```"
   ]
  },
  {
   "cell_type": "code",
   "execution_count": null,
   "id": "5552621c-43eb-4bb2-9f15-8d9223291f1f",
   "metadata": {},
   "outputs": [],
   "source": []
  },
  {
   "cell_type": "markdown",
   "id": "5e0ab4a6-f1ed-4835-8604-504ac3db78b7",
   "metadata": {
    "tags": []
   },
   "source": [
    "## DBSCAN Clustering Analysis Results\n",
    "1. For each building, the algorithm:\n",
    "   - Searches for neighboring buildings within the specified radius (eps)\n",
    "   - Designates points as 'core points' if they have the minimum required neighbors\n",
    "   - Marks points as 'border points' if they're within range of a core point\n",
    "   - Labels remaining points as 'noise points' (unclustered)\n",
    "\n",
    "2. Clusters are formed by:\n",
    "   - Connecting core points that are within the specified radius of each other\n",
    "   - Including border points that are within range of any core point\n",
    "\n",
    "## Tight Clustering (Small Clusters)\n",
    "**Parameters:**\n",
    "- Search radius (eps): 30 meters\n",
    "- Minimum buildings per cluster: 5\n",
    "\n",
    "**Overall Results:**\n",
    "- Total buildings: 4,997\n",
    "- Number of clusters: 26\n",
    "- Unclustered buildings: 95\n",
    "\n",
    "**Cluster Distribution:**\n",
    "- Cluster 0: 2,962 buildings\n",
    "- Cluster 1: 28 buildings\n",
    "- Cluster 2: 334 buildings\n",
    "- Cluster 3: 556 buildings\n",
    "- Cluster 4: 20 buildings\n",
    "- Cluster 5: 387 buildings\n",
    "- Cluster 6: 133 buildings\n",
    "- Cluster 7: 7 buildings\n",
    "- Cluster 8: 131 buildings\n",
    "- Cluster 9: 48 buildings\n",
    "- Cluster 10: 52 buildings\n",
    "- Cluster 11: 49 buildings\n",
    "- Cluster 12: 7 buildings\n",
    "- Cluster 13: 9 buildings\n",
    "- Cluster 14: 48 buildings\n",
    "- Cluster 15: 5 buildings\n",
    "- Cluster 16: 46 buildings\n",
    "- Cluster 17: 6 buildings\n",
    "- Cluster 18: 8 buildings\n",
    "- Cluster 19: 7 buildings\n",
    "- Cluster 20: 26 buildings\n",
    "- Cluster 21: 5 buildings\n",
    "- Cluster 22: 6 buildings\n",
    "- Cluster 23: 9 buildings\n",
    "- Cluster 24: 5 buildings\n",
    "- Cluster 25: 8 buildings\n",
    "- Unclustered (noise points): 95 buildings\n",
    "\n",
    "## Medium Clustering\n",
    "**Parameters:**\n",
    "- Search radius (eps): 50 meters\n",
    "- Minimum buildings per cluster: 10\n",
    "\n",
    "**Overall Results:**\n",
    "- Total buildings: 4,997\n",
    "- Number of clusters: 3\n",
    "- Unclustered buildings: 23\n",
    "\n",
    "**Cluster Distribution:**\n",
    "- Cluster 0: 4,735 buildings\n",
    "- Cluster 1: 140 buildings\n",
    "- Cluster 2: 99 buildings\n",
    "- Unclustered (noise points): 23 buildings\n",
    "\n",
    "## Loose Clustering (Large Clusters)\n",
    "**Parameters:**\n",
    "- Search radius (eps): 100 meters\n",
    "- Minimum buildings per cluster: 15\n",
    "\n",
    "**Overall Results:**\n",
    "- Total buildings: 4,997\n",
    "- Number of clusters: 1\n",
    "- Unclustered buildings: 0\n",
    "\n",
    "**Cluster Distribution:**\n",
    "- Cluster 0: 4,997 buildings\n",
    "- Unclustered (noise points): 0 buildings\n",
    "\n",
    "*Real-world uses:*\n",
    "\n",
    "- Finding neighborhoods: It can help city planners understand where houses are grouped together\n",
    "- Finding shopping areas: It can show where stores are clustered\n",
    "- Finding school districts: It can help decide where to build new schools based on where children live\n",
    "- Finding nature preserves: It can show which forest areas are connected and which are separated"
   ]
  },
  {
   "cell_type": "code",
   "execution_count": null,
   "id": "3190361d-3ce6-40a0-9630-6548a70cd4e2",
   "metadata": {},
   "outputs": [],
   "source": []
  }
 ],
 "metadata": {
  "kernelspec": {
   "display_name": "Python 3 (ipykernel)",
   "language": "python",
   "name": "python3"
  },
  "language_info": {
   "codemirror_mode": {
    "name": "ipython",
    "version": 3
   },
   "file_extension": ".py",
   "mimetype": "text/x-python",
   "name": "python",
   "nbconvert_exporter": "python",
   "pygments_lexer": "ipython3",
   "version": "3.9.12"
  }
 },
 "nbformat": 4,
 "nbformat_minor": 5
}
