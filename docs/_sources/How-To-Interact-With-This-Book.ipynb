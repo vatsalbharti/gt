{
 "cells": [
  {
   "cell_type": "markdown",
   "metadata": {
    "tags": []
   },
   "source": [
    "# How to Interact With This Book"
   ]
  },
  {
   "cell_type": "markdown",
   "metadata": {},
   "source": [
    "This book was created with [Jupyter Book](https://jupyterbook.org/intro.html), an open-source project for designing online interactive books that contain code and other computational material. \n",
    "\n",
    "Below the interactive features of this Jupyter Book are explained in further detail. Most interactive features can be found in the toolbar at the top of the page."
   ]
  },
  {
   "cell_type": "markdown",
   "metadata": {
    "tags": []
   },
   "source": [
    "## <i class=\"fa fa-download\" aria-hidden=\"true\"></i> Download Jupyter Notebook "
   ]
  },
  {
   "cell_type": "markdown",
   "metadata": {},
   "source": [
    "You can download any Jupyter notebook page from this book as a Jupyter notebook file (.ipynb). Hover over the download icon <i class=\"fa fa-download\" aria-hidden=\"true\"></i> and click \".ipynb\""
   ]
  },
  {
   "cell_type": "markdown",
   "metadata": {},
   "source": [
    "```{attention}\n",
    "To work with this .ipynb file, you will need to have [Jupyter installed](02-Python/Installation) and running on your own computer.\n",
    "```"
   ]
  },
  {
   "cell_type": "markdown",
   "metadata": {},
   "source": [
    "## <i class=\"fa fa-download\" aria-hidden=\"true\"></i> Download PDF "
   ]
  },
  {
   "cell_type": "markdown",
   "metadata": {},
   "source": [
    "You can download any Jupyter notebook page from this book as a PDF file. Hover over the download icon <i class=\"fa fa-download\" aria-hidden=\"true\"></i> and click \".pdf\""
   ]
  },
  {
   "cell_type": "markdown",
   "metadata": {},
   "source": [
    "## <i class=\"fas fa-expand\" aria-hidden=\"true\"></i> Make Full Screen"
   ]
  },
  {
   "cell_type": "markdown",
   "metadata": {},
   "source": [
    "To make any page from this book full screen, click the full screen <i class=\"fas fa-expand\" aria-hidden=\"true\"></i> icon at the top of the page."
   ]
  },
  {
   "cell_type": "markdown",
   "metadata": {},
   "source": [
    "## Click to Show Output/Code"
   ]
  },
  {
   "cell_type": "markdown",
   "metadata": {},
   "source": [
    "Many of the pages in this book include hidden content. You can reveal the hidden content by clicking \"Click to Show\" beneath the cell on the right. \n",
    "\n",
    "Revealing content is meant to replicate the experience of running code live."
   ]
  },
  {
   "cell_type": "code",
   "execution_count": 4,
   "metadata": {
    "tags": [
     "hide-output"
    ]
   },
   "outputs": [
    {
     "name": "stdout",
     "output_type": "stream",
     "text": [
      "Here's an example of hidden output! Click 'Click to Show' to see the output!\n"
     ]
    }
   ],
   "source": [
    "print(\"Here's an example of hidden output! Click 'Click to Show' to see the output!\")"
   ]
  },
  {
   "cell_type": "code",
   "execution_count": 1,
   "metadata": {
    "tags": [
     "hide-output"
    ]
   },
   "outputs": [
    {
     "data": {
      "text/plain": [
       "529"
      ]
     },
     "execution_count": 1,
     "metadata": {},
     "output_type": "execute_result"
    }
   ],
   "source": [
    "23 * 23"
   ]
  },
  {
   "cell_type": "code",
   "execution_count": null,
   "metadata": {},
   "outputs": [],
   "source": []
  }
 ],
 "metadata": {
  "kernelspec": {
   "display_name": "Python 3 (ipykernel)",
   "language": "python",
   "name": "python3"
  },
  "language_info": {
   "codemirror_mode": {
    "name": "ipython",
    "version": 3
   },
   "file_extension": ".py",
   "mimetype": "text/x-python",
   "name": "python",
   "nbconvert_exporter": "python",
   "pygments_lexer": "ipython3",
   "version": "3.9.12"
  }
 },
 "nbformat": 4,
 "nbformat_minor": 4
}
