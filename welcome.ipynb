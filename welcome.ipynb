{
 "cells": [
  {
   "cell_type": "markdown",
   "metadata": {},
   "source": [
    "# New age sources of data and Tools\n",
    "<br>\n",
    "\n",
    "**Designed by [Howindialives](https://howindialives.com/)**  \n",
    "\n",
    "This website hosts an online textbook material, *New age data sources and tools* have significantly impacted data journalism, providing journalists with powerful tools and resources to uncover stories, conduct in-depth analysis, and present engaging visualizations. These sources offer real-time, extensive, and diverse datasets that can be leveraged to reveal insights and trends, fostering more informed and evidence-based reporting.\n",
    "\n",
    "Examples of a few widely used data sources - \n",
    "\n",
    "*Google Trends*: Journalists can use Google Trends to analyze search query data, identifying trending topics, regional interests, and shifts in public sentiment over time. This tool can help journalists uncover emerging stories and gauge their potential impact or relevance to a target audience.\n",
    "\n",
    "*Mobility Data*: By analyzing mobility data from GPS-enabled devices, journalists can study human movement patterns and their implications for various sectors, such as transportation, urban planning, and public health. Mobility data can also help journalists understand the effects of specific events or policies on population behavior.\n",
    "\n",
    "*Twitter APIs*: Journalists can harness Twitter's APIs to access and analyze tweets, user profiles, and other data from the platform in real-time. This enables them to track trending topics, monitor public sentiment, and study social networks, offering a wealth of information for stories related to politics, culture, and current events.\n",
    "\n",
    "*Kaggle Datasets*: With a vast repository of datasets on diverse topics, Kaggle provides journalists with a wealth of data for research and analysis. By exploring and collaborating on datasets, journalists can uncover hidden trends, correlations, and insights, enriching their stories and enhancing their credibility.\n",
    "\n",
    "*Using Restaurant and House rental and buy data as proxy indicators for economic and aflluence*: We can leverage the use of Zomato and 99 acres properities api data to understand affluence and growth in tier -1 and tier -2 cities\n",
    "</br>"
   ]
  },
  {
   "cell_type": "code",
   "execution_count": null,
   "metadata": {},
   "outputs": [],
   "source": []
  }
 ],
 "metadata": {
  "kernelspec": {
   "display_name": "Python 3 (ipykernel)",
   "language": "python",
   "name": "python3"
  },
  "language_info": {
   "codemirror_mode": {
    "name": "ipython",
    "version": 3
   },
   "file_extension": ".py",
   "mimetype": "text/x-python",
   "name": "python",
   "nbconvert_exporter": "python",
   "pygments_lexer": "ipython3",
   "version": "3.9.12"
  }
 },
 "nbformat": 4,
 "nbformat_minor": 4
}
